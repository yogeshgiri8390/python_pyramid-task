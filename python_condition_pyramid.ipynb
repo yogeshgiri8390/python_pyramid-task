{
 "cells": [
  {
   "cell_type": "markdown",
   "metadata": {},
   "source": [
    "# print pyramid"
   ]
  },
  {
   "cell_type": "code",
   "execution_count": 15,
   "metadata": {},
   "outputs": [
    {
     "name": "stdout",
     "output_type": "stream",
     "text": [
      "        *\n",
      "       ***\n",
      "      *****\n",
      "     *******\n",
      "    *********\n"
     ]
    }
   ],
   "source": [
    "y = 8\n",
    "for g in range(1,11,2):\n",
    "    print(y * ' ' + g * '*')\n",
    "    y=y-1"
   ]
  },
  {
   "cell_type": "markdown",
   "metadata": {},
   "source": [
    "# math_op using function and condition"
   ]
  },
  {
   "cell_type": "code",
   "execution_count": 6,
   "metadata": {},
   "outputs": [
    {
     "name": "stdout",
     "output_type": "stream",
     "text": [
      "addition = 500\n",
      "subtraction = 2000\n",
      "multiplication = 1000000\n"
     ]
    }
   ],
   "source": [
    "def mathop (val1,val2,op):\n",
    "    result = val1 + val2\n",
    "    result1 = val1 - val2\n",
    "    result2 = val1 * val2\n",
    "    result3 = val1 / val2\n",
    "    if op == 'addition' :\n",
    "        return result\n",
    "    elif op == 'subtraction':\n",
    "        return result1\n",
    "    elif op == 'multiplication':\n",
    "        return result2\n",
    "    else :\n",
    "        return 'operation not define'\n",
    "    \n",
    "addition = mathop(100,400,'addition')\n",
    "subtraction = mathop(2500,500,'subtraction')\n",
    "multiplication = mathop(2000,500,'multiplication')\n",
    "\n",
    "print(f'addition = {addition}')\n",
    "print(f'subtraction = {subtraction}')\n",
    "print(f'multiplication = {multiplication}')"
   ]
  }
 ],
 "metadata": {
  "kernelspec": {
   "display_name": "Python 3",
   "language": "python",
   "name": "python3"
  },
  "language_info": {
   "codemirror_mode": {
    "name": "ipython",
    "version": 3
   },
   "file_extension": ".py",
   "mimetype": "text/x-python",
   "name": "python",
   "nbconvert_exporter": "python",
   "pygments_lexer": "ipython3",
   "version": "3.12.4"
  }
 },
 "nbformat": 4,
 "nbformat_minor": 2
}
